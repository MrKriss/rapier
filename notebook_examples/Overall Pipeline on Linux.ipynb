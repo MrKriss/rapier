{
 "metadata": {
  "name": ""
 },
 "nbformat": 3,
 "nbformat_minor": 0,
 "worksheets": [
  {
   "cells": [
    {
     "cell_type": "code",
     "collapsed": false,
     "input": [
      "import glob\n",
      "from Bio import SeqIO\n",
      "import database.reads_db\n",
      "reload(database.reads_db)\n",
      "from database.reads_db import Reads_db\n",
      "import sqlite3\n",
      "import time"
     ],
     "language": "python",
     "metadata": {},
     "outputs": [],
     "prompt_number": 5
    },
    {
     "cell_type": "code",
     "collapsed": false,
     "input": [
      "# prefix \n",
      "p = '/space/musselle/data/RAD-seq/gazelles-zebras/'\n",
      "\n",
      "cdhit_path = '/home/pgrad/musselle/ubuntu/bin/cd-hit-v4.6.1/'\n",
      "\n",
      "# Define inputs\n",
      "test_dir = os.path.join(p, 'raw-data/new-zebras')\n",
      "test_files = 'lane3_NoIndex_L003_R1_001.fastq'\n",
      "# test_files = 'testset_1percent.fastq'\n",
      "\n",
      "files_dir = os.path.join(p, 'raw-data/')\n",
      "L6_files = 'lane6*.fastq'\n",
      "L8_files = 'lane8*.fastq'\n",
      "\n",
      "barcodes_dir = os.path.join(p, 'barcodes/')\n",
      "# barcode_files_L6 = '*6.txt'\n",
      "# barcode_files_L8 = '*8.txt'\n",
      "barcode_files_L3 = 'lane3_newzebra.txt'\n",
      "\n",
      "files_path = os.path.join(test_dir, test_files)\n",
      "#files_path = os.path.join(files_dir, L6_files)\n",
      "#files_path = os.path.join(files_dir, L8_files)\n",
      "\n",
      "# barcodes_path = os.pth.join(barcodes_dir, barcode_files_L6)\n",
      "barcodes_path = os.path.join(barcodes_dir, barcode_files_L3)\n",
      "\n",
      "output_path = os.path.join(p, 'experimental')\n",
      "\n",
      "database_path = os.path.join(output_path, 'test.db')\n",
      "\n",
      "temp_fastafile = os.path.join(output_path, 'test.fasta')\n",
      "\n",
      "cluster_file = os.path.join(output_path, 'test_cluster')\n"
     ],
     "language": "python",
     "metadata": {},
     "outputs": [],
     "prompt_number": 6
    },
    {
     "cell_type": "markdown",
     "metadata": {},
     "source": [
      "### Make Test Database"
     ]
    },
    {
     "cell_type": "code",
     "collapsed": false,
     "input": [
      "!~/bin/filter_and_clean_reads.py -i {files_path} -b {barcodes_path} -p {output_path} -f 20 -n 0.1 -c TGCAGG -r 2 -g 2  | ~/bin/load_reads.py -b {barcodes_path} -d {database_path}"
     ],
     "language": "python",
     "metadata": {},
     "outputs": [
      {
       "output_type": "stream",
       "stream": "stdout",
       "text": [
        "\r\n",
        "Processing /space/musselle/data/RAD-seq/gazelles-zebras/raw-data/new-zebras/lane3_NoIndex_L003_R1_001.fastq\r\n",
        "Writing to stdout ....\r\n"
       ]
      },
      {
       "output_type": "stream",
       "stream": "stdout",
       "text": [
        "Database found with matching file name.\r\n",
        "Connecting to database /space/musselle/data/RAD-seq/gazelles-zebras/experimental/test.db\r\n",
        "Setting Row_factory to named Rows\r\n"
       ]
      },
      {
       "output_type": "stream",
       "stream": "stdout",
       "text": [
        "11377183 records Preprocessed\r\n",
        "Finished file 0 after 00:35:50\r\n",
        "Processed all files in 00:35:50\r\n"
       ]
      },
      {
       "output_type": "stream",
       "stream": "stdout",
       "text": [
        "Loaded processed reads file in 00:35:52\r\n"
       ]
      }
     ],
     "prompt_number": 3
    },
    {
     "cell_type": "code",
     "collapsed": false,
     "input": [
      "### Claculate read counts\n",
      "db = Reads_db(database_path)\n",
      "db.create_sampleid_index()\n",
      "db.calculate_reads_per_individual()\n",
      "\n",
      "# db.update_type('*zebra*', 'z')\n"
     ],
     "language": "python",
     "metadata": {},
     "outputs": [
      {
       "output_type": "stream",
       "stream": "stdout",
       "text": [
        "Database found with matching file name.\n",
        "Connecting to database /space/musselle/data/RAD-seq/gazelles-zebras/experimental/test.db\n",
        "Setting Row_factory to named Rows\n"
       ]
      }
     ],
     "prompt_number": 6
    },
    {
     "cell_type": "code",
     "collapsed": false,
     "input": [
      "# Claculate read counts without indexing\n",
      "%time db.calculate_reads_per_individual()"
     ],
     "language": "python",
     "metadata": {},
     "outputs": [
      {
       "output_type": "stream",
       "stream": "stdout",
       "text": [
        "CPU times: user 10min 11s, sys: 10min 20s, total: 20min 32s\n",
        "Wall time: 51min 56s\n"
       ]
      },
      {
       "output_type": "stream",
       "stream": "stderr",
       "text": [
        " Updating read counts for 74 samples"
       ]
      }
     ],
     "prompt_number": 8
    },
    {
     "cell_type": "code",
     "collapsed": false,
     "input": [
      "db.create_sampleid_index()"
     ],
     "language": "python",
     "metadata": {},
     "outputs": [
      {
       "output_type": "stream",
       "stream": "stderr",
       "text": [
        " Index created over sampleId sizes in: 00:01:24\n"
       ]
      }
     ],
     "prompt_number": 13
    },
    {
     "cell_type": "code",
     "collapsed": false,
     "input": [
      "# Claculate read counts with indexing\n",
      "%time db.calculate_reads_per_individual()"
     ],
     "language": "python",
     "metadata": {},
     "outputs": [
      {
       "output_type": "stream",
       "stream": "stdout",
       "text": [
        "CPU times: user 1.71 s, sys: 0 ns, total: 1.71 s\n",
        "Wall time: 1.87 s\n"
       ]
      },
      {
       "output_type": "stream",
       "stream": "stderr",
       "text": [
        "Updating read counts for 74 samples"
       ]
      }
     ],
     "prompt_number": 14
    },
    {
     "cell_type": "code",
     "collapsed": false,
     "input": [
      "db.con.execute('Drop index sampleidIndex')"
     ],
     "language": "python",
     "metadata": {},
     "outputs": [
      {
       "metadata": {},
       "output_type": "pyout",
       "prompt_number": 11,
       "text": [
        "<sqlite3.Cursor at 0x48b4c00>"
       ]
      }
     ],
     "prompt_number": 11
    },
    {
     "cell_type": "markdown",
     "metadata": {},
     "source": [
      "### Extract records and write to fasta"
     ]
    },
    {
     "cell_type": "code",
     "collapsed": false,
     "input": [
      "!~/bin/extract_reads.py -i {database_path} -o {temp_fastafile}"
     ],
     "language": "python",
     "metadata": {},
     "outputs": [
      {
       "output_type": "stream",
       "stream": "stdout",
       "text": [
        "['/home/pgrad/musselle/ubuntu/bin/extract_reads.py', '-i', '/space/musselle/data/RAD-seq/gazelles-zebras/experimental/test.db', '-o', '/space/musselle/data/RAD-seq/gazelles-zebras/experimental/test.fasta', '-e', 'samples.read_count < 1000']\r\n",
        "samples.read_count < 1000\r\n",
        "Database found with matching file name.\r\n",
        "Connecting to database /space/musselle/data/RAD-seq/gazelles-zebras/experimental/test.db\r\n",
        "Setting Row_factory to named Rows\r\n",
        "File already present. Saving as  /space/musselle/data/RAD-seq/gazelles-zebras/experimental/test15.fasta\r\n",
        "samples.read_count < 1000\r\n",
        "SELECT seqid, seq, phred  \r\n",
        "                    FROM seqs INNER JOIN samples ON seqs.sampleId=samples.sampleId WHERE samples.read_count < 1000\r\n",
        "Executing sql querry.... SELECT seqid, seq, phred  \r\n",
        "                    FROM seqs INNER JOIN samples ON seqs.sampleId=samples.sampleId WHERE samples.read_count < 1000\r\n"
       ]
      },
      {
       "output_type": "stream",
       "stream": "stdout",
       "text": [
        " Done!\r\n",
        "Records returned in 00:00:42\r\n",
        "Writing records to fasta format...."
       ]
      },
      {
       "output_type": "stream",
       "stream": "stdout",
       "text": [
        "  Done!\r\n",
        "\r\n",
        "486 records written successfully to /space/musselle/data/RAD-seq/gazelles-zebras/experimental/test15.fasta\r\n",
        "in 00:00:00\r\n"
       ]
      }
     ],
     "prompt_number": 13
    },
    {
     "cell_type": "markdown",
     "metadata": {},
     "source": [
      "### Cluster with CD-HIT"
     ]
    },
    {
     "cell_type": "code",
     "collapsed": false,
     "input": [
      "temp_fastafile = os.path.join(output_path, 'test.fasta')\n",
      "\n",
      "cluster_file = os.path.join(output_path, 'test_cluster')\n"
     ],
     "language": "python",
     "metadata": {},
     "outputs": [],
     "prompt_number": 37
    },
    {
     "cell_type": "code",
     "collapsed": false,
     "input": [
      "!~/bin/cluster_CDHIT.py -i {temp_fastafile} -o {cluster_file} -p {cdhit_path} -n 8 -s 0.95 -g -m 3000 -t 1 "
     ],
     "language": "python",
     "metadata": {},
     "outputs": [
      {
       "output_type": "stream",
       "stream": "stdout",
       "text": [
        "['/home/pgrad/musselle/ubuntu/bin/cluster_CDHIT.py', '-i', '/space/musselle/data/RAD-seq/gazelles-zebras/experimental/test.fasta', '-o', '/space/musselle/data/RAD-seq/gazelles-zebras/experimental/test_cluster', '-p', '/home/pgrad/musselle/ubuntu/bin/cd-hit-v4.6.1/', '-n', '8', '-s', '0.95', '-g', '-m', '3000', '-t', '1']\r\n",
        "File already present. Saving as  /space/musselle/data/RAD-seq/gazelles-zebras/experimental/clusterfile1.log\r\n"
       ]
      },
      {
       "output_type": "stream",
       "stream": "stdout",
       "text": [
        "================================================================\r\n",
        "Program: CD-HIT, V4.6 (+OpenMP), Dec 05 2012, 13:57:31\r\n",
        "Command:\r\n",
        "         /home/pgrad/musselle/ubuntu/bin/cd-hit-v4.6.1/cd-hit-est\r\n",
        "         -i\r\n",
        "         /space/musselle/data/RAD-seq/gazelles-zebras/experimental/test.fasta\r\n",
        "         -o\r\n",
        "         /space/musselle/data/RAD-seq/gazelles-zebras/experimental/test_cluster\r\n",
        "         -c 0.95 -n 8 -d 0 -r 0 -s 0.8 -M 3000 -T 1 -g 1\r\n",
        "\r\n",
        "Started: Wed Sep  4 18:17:21 2013\r\n",
        "================================================================\r\n",
        "                            Output                              \r\n",
        "----------------------------------------------------------------\r\n"
       ]
      },
      {
       "output_type": "stream",
       "stream": "stdout",
       "text": [
        "total seq: 11377183\r\n"
       ]
      },
      {
       "output_type": "stream",
       "stream": "stdout",
       "text": [
        "longest and shortest : 95 and 95\r\n",
        "Total letters: 1080832385\r\n"
       ]
      },
      {
       "output_type": "stream",
       "stream": "stdout",
       "text": [
        "Sequences have been sorted\r\n"
       ]
      },
      {
       "output_type": "stream",
       "stream": "stdout",
       "text": [
        "\r\n",
        "Approximated minimal memory consumption:\r\n",
        "Sequence        : 2378M\r\n",
        "Buffer          : 1 X 60M = 60M\r\n",
        "Table           : 1 X 65M = 65M\r\n",
        "Miscellaneous   : 142M\r\n",
        "Total           : 2645M\r\n",
        "\r\n"
       ]
      },
      {
       "output_type": "stream",
       "stream": "stdout",
       "text": [
        "Table limit with the given memory limit:\r\n",
        "Max number of representatives: 1816610\r\n",
        "Max number of word counting entries: 44301464\r\n",
        "\r\n",
        "\r",
        "comparing sequences from          0  to     466332\r\n"
       ]
      },
      {
       "output_type": "stream",
       "stream": "stdout",
       "text": [
        "..."
       ]
      },
      {
       "output_type": "stream",
       "stream": "stdout",
       "text": [
        ".."
       ]
      },
      {
       "output_type": "stream",
       "stream": "stdout",
       "text": [
        ".."
       ]
      },
      {
       "output_type": "stream",
       "stream": "stdout",
       "text": [
        ".."
       ]
      },
      {
       "output_type": "stream",
       "stream": "stdout",
       "text": [
        ".\r",
        "..........    10000  finished       9455  clusters\r\n"
       ]
      },
      {
       "output_type": "stream",
       "stream": "stdout",
       "text": [
        "."
       ]
      },
      {
       "output_type": "stream",
       "stream": "stdout",
       "text": [
        "."
       ]
      },
      {
       "output_type": "stream",
       "stream": "stdout",
       "text": [
        ".."
       ]
      },
      {
       "output_type": "stream",
       "stream": "stdout",
       "text": [
        "."
       ]
      },
      {
       "output_type": "stream",
       "stream": "stdout",
       "text": [
        "."
       ]
      },
      {
       "output_type": "stream",
       "stream": "stdout",
       "text": [
        "....\r",
        "..........    20000  finished      18134  clusters\r\n",
        "..........\r",
        "..........    30000  finished      26271  clusters\r\n",
        "..."
       ]
      },
      {
       "output_type": "stream",
       "stream": "stdout",
       "text": [
        ".."
       ]
      },
      {
       "output_type": "stream",
       "stream": "stdout",
       "text": [
        "."
       ]
      },
      {
       "output_type": "stream",
       "stream": "stdout",
       "text": [
        "."
       ]
      },
      {
       "output_type": "stream",
       "stream": "stdout",
       "text": [
        "."
       ]
      },
      {
       "output_type": "stream",
       "stream": "stdout",
       "text": [
        "."
       ]
      },
      {
       "output_type": "stream",
       "stream": "stdout",
       "text": [
        ".\r",
        "..........    40000  finished      33835  clusters\r\n"
       ]
      },
      {
       "output_type": "stream",
       "stream": "stdout",
       "text": [
        "."
       ]
      },
      {
       "output_type": "stream",
       "stream": "stdout",
       "text": [
        "."
       ]
      },
      {
       "output_type": "stream",
       "stream": "stdout",
       "text": [
        "."
       ]
      },
      {
       "output_type": "stream",
       "stream": "stdout",
       "text": [
        "."
       ]
      },
      {
       "output_type": "stream",
       "stream": "stdout",
       "text": [
        "."
       ]
      },
      {
       "output_type": "stream",
       "stream": "stdout",
       "text": [
        "."
       ]
      },
      {
       "output_type": "stream",
       "stream": "stdout",
       "text": [
        "."
       ]
      },
      {
       "output_type": "stream",
       "stream": "stdout",
       "text": [
        "."
       ]
      },
      {
       "output_type": "stream",
       "stream": "stdout",
       "text": [
        "."
       ]
      },
      {
       "output_type": "stream",
       "stream": "stdout",
       "text": [
        ".\r",
        "..........    50000  finished      40990  clusters\r\n"
       ]
      },
      {
       "output_type": "stream",
       "stream": "stdout",
       "text": [
        "."
       ]
      },
      {
       "output_type": "stream",
       "stream": "stdout",
       "text": [
        "."
       ]
      },
      {
       "output_type": "stream",
       "stream": "stdout",
       "text": [
        "."
       ]
      },
      {
       "output_type": "stream",
       "stream": "stdout",
       "text": [
        "."
       ]
      },
      {
       "output_type": "stream",
       "stream": "stdout",
       "text": [
        "."
       ]
      },
      {
       "output_type": "stream",
       "stream": "stdout",
       "text": [
        "."
       ]
      },
      {
       "output_type": "stream",
       "stream": "stdout",
       "text": [
        "."
       ]
      },
      {
       "output_type": "stream",
       "stream": "stdout",
       "text": [
        "."
       ]
      },
      {
       "output_type": "stream",
       "stream": "stdout",
       "text": [
        "."
       ]
      },
      {
       "output_type": "stream",
       "stream": "stdout",
       "text": [
        ".\r",
        "..........    60000  finished      47778  clusters\r\n"
       ]
      },
      {
       "output_type": "stream",
       "stream": "stdout",
       "text": [
        "."
       ]
      },
      {
       "output_type": "stream",
       "stream": "stdout",
       "text": [
        "."
       ]
      },
      {
       "output_type": "stream",
       "stream": "stdout",
       "text": [
        "."
       ]
      },
      {
       "output_type": "stream",
       "stream": "stdout",
       "text": [
        "."
       ]
      },
      {
       "output_type": "stream",
       "stream": "stdout",
       "text": [
        "."
       ]
      },
      {
       "output_type": "stream",
       "stream": "stdout",
       "text": [
        "."
       ]
      },
      {
       "output_type": "stream",
       "stream": "stdout",
       "text": [
        "."
       ]
      },
      {
       "output_type": "stream",
       "stream": "stdout",
       "text": [
        "."
       ]
      },
      {
       "output_type": "stream",
       "stream": "stdout",
       "text": [
        "."
       ]
      },
      {
       "output_type": "stream",
       "stream": "stdout",
       "text": [
        ".\r",
        "..........    70000  finished      54211  clusters\r\n"
       ]
      },
      {
       "output_type": "stream",
       "stream": "stdout",
       "text": [
        "."
       ]
      },
      {
       "output_type": "stream",
       "stream": "stdout",
       "text": [
        "."
       ]
      },
      {
       "output_type": "stream",
       "stream": "stdout",
       "text": [
        "."
       ]
      },
      {
       "output_type": "stream",
       "stream": "stdout",
       "text": [
        "."
       ]
      },
      {
       "output_type": "stream",
       "stream": "stdout",
       "text": [
        "."
       ]
      },
      {
       "output_type": "stream",
       "stream": "stdout",
       "text": [
        "."
       ]
      },
      {
       "output_type": "stream",
       "stream": "stdout",
       "text": [
        "."
       ]
      },
      {
       "output_type": "stream",
       "stream": "stdout",
       "text": [
        "."
       ]
      },
      {
       "output_type": "stream",
       "stream": "stdout",
       "text": [
        "."
       ]
      },
      {
       "output_type": "stream",
       "stream": "stdout",
       "text": [
        ".\r",
        "..........    80000  finished      60139  clusters\r\n"
       ]
      },
      {
       "output_type": "stream",
       "stream": "stdout",
       "text": [
        "."
       ]
      },
      {
       "output_type": "stream",
       "stream": "stdout",
       "text": [
        "."
       ]
      },
      {
       "output_type": "stream",
       "stream": "stdout",
       "text": [
        "."
       ]
      }
     ],
     "prompt_number": "*"
    },
    {
     "cell_type": "markdown",
     "metadata": {},
     "source": [
      "### Load in cluster file to Database "
     ]
    },
    {
     "cell_type": "code",
     "collapsed": false,
     "input": [
      "!~/bin/load_CDHIT_cluster.py -i {cluster_file+'.clstr'} -o {database_path} -n --min 1"
     ],
     "language": "python",
     "metadata": {},
     "outputs": [
      {
       "output_type": "stream",
       "stream": "stdout",
       "text": [
        "['/home/pgrad/musselle/ubuntu/bin/load_CDHIT_cluster.py', '-i', '/space/musselle/data/RAD-seq/gazelles-zebras/testing/test_cluster.clstr', '-o', '/space/musselle/data/RAD-seq/gazelles-zebras/testing/testdb.db', '-n', '--min', '1']\r\n",
        "Database found with matching file name.\r\n",
        "Connecting to database /space/musselle/data/RAD-seq/gazelles-zebras/testing/testdb.db\r\n",
        "Setting Row_factory to named Rows\r\n",
        "Sorting cluster file /space/musselle/data/RAD-seq/gazelles-zebras/testing/test_cluster.clstr ...\r\n"
       ]
      },
      {
       "output_type": "stream",
       "stream": "stdout",
       "text": [
        "Finished sorting cluster file after 00:00:05\r\n",
        "\r\n"
       ]
      },
      {
       "output_type": "stream",
       "stream": "stdout",
       "text": [
        "Importing cluster file /space/musselle/data/RAD-seq/gazelles-zebras/testing/test_cluster-subset.clstr  to database...\r\n"
       ]
      },
      {
       "output_type": "stream",
       "stream": "stdout",
       "text": [
        "Finished Scanning cluster file.\r\n",
        "Loaded cluster file in 06:47:44\r\n"
       ]
      }
     ],
     "prompt_number": 27
    },
    {
     "cell_type": "code",
     "collapsed": false,
     "input": [
      "!~/bin/load_CDHIT_cluster.py -i {cluster_file} -o {database_path} -n --min 5 --max 19 "
     ],
     "language": "python",
     "metadata": {},
     "outputs": [
      {
       "output_type": "stream",
       "stream": "stdout",
       "text": [
        "['/home/pgrad/musselle/ubuntu/bin/load_CDHIT_cluster.py', '-i', '/space/musselle/data/RAD-seq/gazelles-zebras/test_cluster', '-o', '/space/musselle/data/RAD-seq/gazelles-zebras/testdb.db', '-n', '--min', '5', '--max', '19']\r\n",
        "Database found with matching file name.\r\n",
        "Connecting to database /space/musselle/data/RAD-seq/gazelles-zebras/testdb.db\r\n",
        "Setting Row_factory to named Rows\r\n",
        "Sorting cluster file /space/musselle/data/RAD-seq/gazelles-zebras/test_cluster.clstr ...\r\n"
       ]
      },
      {
       "output_type": "stream",
       "stream": "stdout",
       "text": [
        "Finished sorting cluster file after 00:00:00\r\n",
        "\r\n",
        "Importing cluster file /space/musselle/data/RAD-seq/gazelles-zebras/test_cluster-subset.clstr  to database...\r\n"
       ]
      },
      {
       "output_type": "stream",
       "stream": "stdout",
       "text": [
        "Finished Scanning cluster file.\r\n",
        "Loaded cluster file in 00:00:13\r\n"
       ]
      }
     ],
     "prompt_number": 56
    }
   ],
   "metadata": {}
  }
 ]
}